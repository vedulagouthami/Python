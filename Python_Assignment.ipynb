{
  "nbformat": 4,
  "nbformat_minor": 0,
  "metadata": {
    "colab": {
      "provenance": []
    },
    "kernelspec": {
      "name": "python3",
      "display_name": "Python 3"
    },
    "language_info": {
      "name": "python"
    }
  },
  "cells": [
    {
      "cell_type": "code",
      "execution_count": null,
      "metadata": {
        "id": "Ou_NEFXB2cIm"
      },
      "outputs": [],
      "source": []
    },
    {
      "cell_type": "markdown",
      "source": [
        "Python Assignment\n",
        "\n",
        "1. What are data structures, and why are they important?\n",
        "-Data structures are specialized formats for organizing, storing, and managing data in a way that enables efficient access and modification.\n",
        "Common Types of Data Structures:\n",
        ".Arrays\n",
        ".Lists\n",
        ".sets\n",
        ".Tuple\n",
        ".Dictionary\n",
        "Why Data Structures Are Important:\n",
        ".Efficiency\n",
        ".Data Management\n",
        ".Problem solving\n",
        ".System Design\n",
        ".Memory Optimization\n",
        "\n",
        "2. Explain the difference between mutable and immutable data types with examples?\n",
        "-The difference between mutable and immutable data types lies in whether the object’s value can be changed after it is created.\n",
        "\n",
        " Mutable Data Types\n",
        " .Definition: Objects whose contents can be changed after creation.\n",
        "Examples in Python:\n",
        "\n",
        "Lists: list\n",
        "Dictionaries: dict\n",
        "Sets: set\n",
        "\n",
        "Example(Mutabe):\n",
        "my_list = [1, 2, 3]\n",
        "my_list.append(4)  # Changes the original list\n",
        "print(my_list)     # Output: [1, 2, 3, 4]\n",
        " Immutable Data Types\n",
        " .Definition: Objects whose contents cannot be changed after creation.\n",
        "Examples in Python:\n",
        ".Float\n",
        ".String\n",
        ".Tuple\n",
        ".Boolean\n",
        " Example (String - Immutable):\n",
        "my_string = \"hello\"\n",
        "new_string = my_string.upper()  # Returns a new string\n",
        "print(my_string)      # Output: \"hello\"\n",
        "print(new_string)     # Output: \"HELLO\"\n",
        "\n",
        "3. What are the main differences between lists and tuples in Python?\n",
        "-The main difference between lists and tuple is list is Mutable(List: Mutable – you can change, add, or remove elements),whereas tuple is Immutable(Tuple: Immutable – once created, you cannot change its contents).\n",
        ".List uses [],Tuple uses()\n",
        ".Tuple: Slightly faster than lists for iteration and access due to immutability,List: Slightly slower because of dynamic features (like resizing, appending).\n",
        ".List: Has more built-in methods like .append(), .remove(), .sort(), etc,Tuple: When you want a fixed collection of items (e.g., coordinates, function returns).\n",
        ".List: Has more built-in methods like .append(), .remove(), .sort() whereas Tuple: Only supports basic methods like .count() and .index().\n",
        ".Tuple: Hashable (if it contains only hashable elements), so it can be used as a dictionary key,List: Not hashable – cannot be used as dictionary keys.\n",
        "\n",
        "4. Describe how dictionaries store data?\n",
        "-In Python, dictionaries store data in the form of key-value pairs, like this:\n",
        "my_dict = {\n",
        "    \"name\": \"Alice\",\n",
        "    \"age\": 30,\n",
        "    \"city\": \"New York\"\n",
        "}\n",
        "\n",
        "5.Why might you use a set instead of a list in Python?\n",
        "-When you need unique items by removing duplicates a set is used.\n",
        ".For faster membership testing set is used\n",
        ".To perform set operations like Union,Interesection,Difference..\n",
        "\n",
        "6. What is a string in Python, and how is it different from a list?\n",
        "\n",
        ".In Python, a string is a sequence of characters, while a list is a sequence of elements (of any type).\n",
        ".A string is a collection of characters enclosed in quotes\n",
        "my_string = \"Hello, world!\"\n",
        ".It’s immutable (cannot be changed).\n",
        ".Each character has an index: my_string[0] → 'H'\n",
        "\n",
        "7. How do tuples ensure data integrity in Python?\n",
        "-Tuples help ensure data integrity in Python because they are immutable, meaning their contents cannot be changed after creation.\n",
        "\n",
        ".Immutability-Once a tuple is created, you cannot add, remove, or change its elements. This protects the data from accidental changes.\n",
        ".Hashability-Because they’re immutable, tuples can be used as dictionary keys or elements of sets, unlike lists.\n",
        "\n",
        "8.What is a hash table, and how does it relate to dictionaries in Python?\n",
        "-A hash table is a data structure that stores key-value pairs and allows for fast lookup, insertion, and deletion using a technique called hashing.\n",
        "\n",
        "In Python, a dictionary is an implementation of a hash table.\n",
        "\n",
        "9. Can lists contain different data types in Python?\n",
        "-Yes, lists in Python can contain different data types. Python lists are heterogeneous, meaning you can mix and match data types within a single list.\n",
        "\n",
        "10. Explain why strings are immutable in Python?\n",
        "-In Python, strings are immutable because once a string is created, its contents cannot be changed. Here's why this design choice is made and why it matters:\n",
        "\n",
        ".When you create a string in Python, the object is stored in memory with a specific value.\n",
        "\n",
        ".If you try to change a character in that string, Python will not modify the original string but will instead create a new string.\n",
        "\n",
        "11. What advantages do dictionaries offer over lists for certain tasks?\n",
        "-Dictionaries offer several key advantages over lists in Python when it comes to certain tasks, especially those involving key-based lookups, fast access, and structured data.\n",
        "\n",
        "12.Describe a scenario where using a tuple would be preferable over a list?\n",
        "\n",
        "-Using a tuple is preferable over a list when you want to store a fixed collection of items that should not change, especially when:\n",
        "\n",
        "- 1. Data Integrity Is Important (Immutability)\n",
        "Scenario: You're returning coordinates from a function.\n",
        "def get_coordinates():\n",
        "    return (10, 20)\n",
        ".Coordinates like (x, y) should not be changed, so using a tuple ensures the data stays intact.\n",
        "\n",
        ".If you used a list, someone could accidentally modify the values:\n",
        ".Scenario: You’re working with a large number of small collections in performance-sensitive code (e.g., tokenizing text).\n",
        "\n",
        ".Tuples have better performance than lists for iteration and storage.\n",
        "\n",
        ".Scenario: You’re mapping GPS coordinates to city names.\n",
        "locations = {\n",
        "    (40.7128, -74.0060): \"New York\",\n",
        "    (34.0522, -118.2437): \"Los Angeles\"\n",
        "}\n",
        ".Tuples are hashable, so they can be used as keys in a dictionary.\n",
        "\n",
        ".Lists are not hashable and cannot be used as keys.\n",
        "\n",
        ".Scenario: You're unpacking fixed-format data, like rows from a database.\n",
        "\n",
        "person = (\"Alice\", 30, \"Engineer\")\n",
        "name, age, profession = person\n",
        ".If you don’t need to change the values later, a tuple makes it clear the data is static and structured.\n",
        "\n",
        "13. How do sets handle duplicate values in Python?\n",
        "-In Python, sets automatically eliminate duplicate values.\n",
        "\n",
        "-When you create a set, any duplicate elements are removed, and only unique elements are stored. This behavior is built into the way sets are implemented in Python, using hashing.\n",
        "\n",
        "14. How does the “in” keyword work differently for lists and dictionaries?\n",
        "-The in keyword in Python is used to check for membership, but it behaves differently for lists and dictionaries:\n",
        "\n",
        "For lists:\n",
        "The in keyword checks if a value exists in the list.\n",
        "\n",
        "my_list = [10, 20, 30]\n",
        "print(20 in my_list)  # True\n",
        "print(25 in my_list)  # False\n",
        "\n",
        " For dictionaries:\n",
        " The in keyword checks if a key exists in the dictionary — not the values.\n",
        "\n",
        "my_dict = {'a': 1, 'b': 2}\n",
        "print('a' in my_dict)    # True  (key)\n",
        "print(1 in my_dict)      # False (not a key)\n",
        "\n",
        "15. Can you modify the elements of a tuple? Explain why or why not?\n",
        "-No, you cannot modify the elements of a tuple in Python because tuples are immutable.\n",
        "\n",
        ".Once a tuple is created, its elements cannot be changed, added, or removed.\n",
        "\n",
        ".Exception when mutable objects are inside a tuple\n",
        "\n",
        "16. What is a nested dictionary, and give an example of its use case?\n",
        "-A nested dictionary in Python is a dictionary that contains another dictionary (or dictionaries) as its value. This allows you to represent more complex, hierarchical data structures.\n",
        "\n",
        ".students = {\n",
        "    \"student1\": {\"name\": \"Alice\", \"age\": 20, \"major\": \"Computer Science\"},\n",
        "    \"student2\": {\"name\": \"Bob\", \"age\": 22, \"major\": \"Mathematics\"}\n",
        "}\n",
        "\n",
        "17. Describe the time complexity of accessing elements in a dictionary?\n",
        "-Accessing elements in a dictionary by key is generally:\n",
        "\n",
        " Average-case time complexity: O(1) (constant time)\n",
        " .This means that no matter how big the dictionary is, looking up a value by its key typically takes the same amount of time.\n",
        "\n",
        ".Python dictionaries are implemented using hash tables. When you access an element like this:\n",
        ".value = my_dict[\"key\"]\n",
        "\n",
        "18. In what situations are lists preferred over dictionaries?\n",
        "-Lists are preferred over dictionaries in Python when:\n",
        "\n",
        ".✅ Order and Position Matter\n",
        ".✅ Data Has No Unique Key\n",
        ".✅ You Need to Maintain Duplicates\n",
        ".✅ You’re Performing Sequential Operations\n",
        ".✅ Memory Efficiency (for small data)\n",
        "\n",
        "19. Why are dictionaries considered unordered, and how does that affect data retrieval?\n",
        "-As of Python 3.7, dictionaries preserve insertion order as an official language feature:\n",
        ".However, even though the order is preserved, dictionaries are still conceptually unordered mappings — meaning you should access values by key, not by position.\n",
        "\n",
        "🔹 How Does This Affect Data Retrieval?\n",
        "Retrieving by key is unaffected by order:\n",
        "\n",
        ".Lookup time is still constant (O(1)).\n",
        "\n",
        ".You don’t need to know the order—just the key.\n",
        "\n",
        "Iteration order matters now (in 3.7+):\n",
        "\n",
        "\n",
        ".You can depend on the order of keys or items as they were added.\n",
        ".Dictionaries were considered unordered because order wasn't guaranteed pre-3.7. This didn’t affect retrieval by key, but it did affect iteration. Now, they maintain insertion order, making them more predictable in modern Python versions.\n",
        "\n",
        "20. Explain the difference between a list and a dictionary in terms of data retrieval?\n",
        "-✅ List: You retrieve values by their position (e.g., 1st, 2nd, 3rd item).\n",
        ".Data is retrieved using a numeric index\n",
        ".Ordered collection of items\n",
        ".Fast (O(1) with index)\n",
        ".Best for ordered or sequential data\n",
        "\n",
        "-✅ Dictionary: You retrieve values by their name or label (the key), not by position.\n",
        ".Data is retrieved using a unique key\n",
        ".Unordered collection of key-value pairs\n",
        "..Fast (O(1) with key using hash table)\n",
        ".Best for labeled or mapped data\n",
        "\n",
        "\n",
        "\n",
        "\n",
        "\n",
        "\n",
        "\n",
        "\n",
        "\n",
        "\n",
        "\n",
        "\n",
        "\n",
        "\n",
        "\n",
        "\n",
        "\n",
        "\n",
        "\n",
        "\n",
        "\n",
        "\n",
        "\n",
        "\n",
        "\n",
        "\n",
        "\n",
        "\n",
        "\n",
        "\n",
        "\n",
        "\n",
        "\n",
        "\n",
        "\n",
        "\n",
        "\n",
        "\n",
        "\n",
        "\n",
        "\n",
        "\n",
        "\n",
        "\n",
        "\n",
        "\n",
        "\n",
        "\n",
        "\n",
        "\n",
        "\n",
        "\n",
        "\n"
      ],
      "metadata": {
        "id": "HbYq_ObHnJiW"
      }
    },
    {
      "cell_type": "markdown",
      "source": [
        "Practical Questions:\n",
        "# 1. Write a code to create a string with your name and print it\n",
        "\n"
      ],
      "metadata": {
        "id": "JC4FpQr464Go"
      }
    },
    {
      "cell_type": "code",
      "source": [
        "# Create a string with your name\n",
        "my_name = \"Gouthami\"\n",
        "\n",
        "# Print the string\n",
        "print(\"My name is:\", my_name)\n"
      ],
      "metadata": {
        "colab": {
          "base_uri": "https://localhost:8080/"
        },
        "id": "xfnQw5r77HFC",
        "outputId": "d6cdb6ce-d72d-4a52-b3c7-e6ee0e0f2206"
      },
      "execution_count": 1,
      "outputs": [
        {
          "output_type": "stream",
          "name": "stdout",
          "text": [
            "My name is: Gouthami\n"
          ]
        }
      ]
    },
    {
      "cell_type": "markdown",
      "source": [
        "# 2. Write a code to find the length of the string \"Hello World\"\n",
        "\n"
      ],
      "metadata": {
        "id": "RHb42YRK7WVO"
      }
    },
    {
      "cell_type": "code",
      "source": [
        "# Define the string\n",
        "text = \"Hello World\"\n",
        "\n",
        "# Find and print the length\n",
        "print(\"Length of the string:\", len(text))\n"
      ],
      "metadata": {
        "colab": {
          "base_uri": "https://localhost:8080/"
        },
        "id": "yKZd-wJ-7mwK",
        "outputId": "59c5fb49-6972-4b62-8bfd-7c80dc19024c"
      },
      "execution_count": 2,
      "outputs": [
        {
          "output_type": "stream",
          "name": "stdout",
          "text": [
            "Length of the string: 11\n"
          ]
        }
      ]
    },
    {
      "cell_type": "code",
      "source": [],
      "metadata": {
        "id": "RwPuXzje7OgR"
      },
      "execution_count": null,
      "outputs": []
    },
    {
      "cell_type": "markdown",
      "source": [
        "3.Write a code to slice the first 3 characters from the string \"Python Programming\"\n"
      ],
      "metadata": {
        "id": "F5EboS7b7xAY"
      }
    },
    {
      "cell_type": "code",
      "source": [
        "# Define the string\n",
        "text = \"Python Programming\"\n",
        "\n",
        "# Slice the first 3 characters\n",
        "sliced_text = text[:3]\n",
        "\n",
        "# Print the result\n",
        "print(\"First 3 characters:\", sliced_text)\n"
      ],
      "metadata": {
        "colab": {
          "base_uri": "https://localhost:8080/"
        },
        "id": "A4RLe9du8B8I",
        "outputId": "bc97755a-f84a-4384-ffb8-79203ce9777b"
      },
      "execution_count": 3,
      "outputs": [
        {
          "output_type": "stream",
          "name": "stdout",
          "text": [
            "First 3 characters: Pyt\n"
          ]
        }
      ]
    },
    {
      "cell_type": "code",
      "source": [],
      "metadata": {
        "id": "5MrRgGL772qR"
      },
      "execution_count": null,
      "outputs": []
    },
    {
      "cell_type": "markdown",
      "source": [
        "4. Write a code to convert the string \"hello\" to uppercase\n"
      ],
      "metadata": {
        "id": "fXkMlRoO8FCe"
      }
    },
    {
      "cell_type": "code",
      "source": [
        "# Define the string\n",
        "text = \"hello\"\n",
        "\n",
        "# Convert to uppercase\n",
        "uppercase_text = text.upper()\n",
        "\n",
        "# Print the result\n",
        "print(\"Uppercase:\", uppercase_text)\n"
      ],
      "metadata": {
        "colab": {
          "base_uri": "https://localhost:8080/"
        },
        "id": "hLZ2ZiqB8KdF",
        "outputId": "a2108fde-cd22-4d60-f353-323080d11f57"
      },
      "execution_count": 4,
      "outputs": [
        {
          "output_type": "stream",
          "name": "stdout",
          "text": [
            "Uppercase: HELLO\n"
          ]
        }
      ]
    },
    {
      "cell_type": "code",
      "source": [],
      "metadata": {
        "id": "wtl6Lf9M8PKf"
      },
      "execution_count": null,
      "outputs": []
    },
    {
      "cell_type": "markdown",
      "source": [
        "5. Write a code to replace the word \"apple\" with \"orange\" in the string \"I like apple\"\n"
      ],
      "metadata": {
        "id": "oSss0rl28Qw_"
      }
    },
    {
      "cell_type": "code",
      "source": [
        "# Define the string\n",
        "text = \"I like apple\"\n",
        "\n",
        "# Replace 'apple' with 'orange'\n",
        "new_text = text.replace(\"apple\", \"orange\")\n",
        "\n",
        "# Print the result\n",
        "print(\"Updated string:\", new_text)\n"
      ],
      "metadata": {
        "colab": {
          "base_uri": "https://localhost:8080/"
        },
        "id": "LnT2Udwj8ahT",
        "outputId": "de7ba976-3483-4d49-c3c1-359f21dd5fce"
      },
      "execution_count": 5,
      "outputs": [
        {
          "output_type": "stream",
          "name": "stdout",
          "text": [
            "Updated string: I like orange\n"
          ]
        }
      ]
    },
    {
      "cell_type": "code",
      "source": [],
      "metadata": {
        "id": "Uatjk11H8bvO"
      },
      "execution_count": null,
      "outputs": []
    },
    {
      "cell_type": "markdown",
      "source": [
        "6. Write a code to create a list with numbers 1 to 5 and print it\n"
      ],
      "metadata": {
        "id": "B1wjQyrf8c8c"
      }
    },
    {
      "cell_type": "code",
      "source": [
        "# Create a list with numbers 1 to 5\n",
        "numbers = [1, 2, 3, 4, 5]\n",
        "\n",
        "# Print the list\n",
        "print(\"List of numbers:\", numbers)\n"
      ],
      "metadata": {
        "colab": {
          "base_uri": "https://localhost:8080/"
        },
        "id": "CKfA584j8n6V",
        "outputId": "388e9095-4737-44df-81d2-79089f9db32a"
      },
      "execution_count": 6,
      "outputs": [
        {
          "output_type": "stream",
          "name": "stdout",
          "text": [
            "List of numbers: [1, 2, 3, 4, 5]\n"
          ]
        }
      ]
    },
    {
      "cell_type": "code",
      "source": [],
      "metadata": {
        "id": "KtKF5-yu8o42"
      },
      "execution_count": null,
      "outputs": []
    },
    {
      "cell_type": "markdown",
      "source": [
        "7. Write a code to append the number 10 to the list [1, 2, 3, 4]\n"
      ],
      "metadata": {
        "id": "Tru8yGTY8qcC"
      }
    },
    {
      "cell_type": "code",
      "source": [
        "# Define the list\n",
        "numbers = [1, 2, 3, 4]\n",
        "\n",
        "# Append 10 to the list\n",
        "numbers.append(10)\n",
        "\n",
        "# Print the updated list\n",
        "print(\"Updated list:\", numbers)\n"
      ],
      "metadata": {
        "colab": {
          "base_uri": "https://localhost:8080/"
        },
        "id": "RR7i0NTC8wwe",
        "outputId": "b8eb5338-ebec-4bfb-8753-91413aea5c32"
      },
      "execution_count": 7,
      "outputs": [
        {
          "output_type": "stream",
          "name": "stdout",
          "text": [
            "Updated list: [1, 2, 3, 4, 10]\n"
          ]
        }
      ]
    },
    {
      "cell_type": "code",
      "source": [],
      "metadata": {
        "id": "EoymIHX-81nS"
      },
      "execution_count": null,
      "outputs": []
    },
    {
      "cell_type": "markdown",
      "source": [
        "8. Write a code to remove the number 3 from the list [1, 2, 3, 4, 5]\n"
      ],
      "metadata": {
        "id": "5dOyVWVX82z7"
      }
    },
    {
      "cell_type": "code",
      "source": [
        "# Define the list\n",
        "numbers = [1, 2, 3, 4, 5]\n",
        "\n",
        "# Remove the number 3\n",
        "numbers.remove(3)\n",
        "\n",
        "# Print the updated list\n",
        "print(\"Updated list:\", numbers)\n"
      ],
      "metadata": {
        "colab": {
          "base_uri": "https://localhost:8080/"
        },
        "id": "ePg3Z-Ta9AYS",
        "outputId": "1a82e365-eeee-4208-c3a6-df11a9952276"
      },
      "execution_count": 8,
      "outputs": [
        {
          "output_type": "stream",
          "name": "stdout",
          "text": [
            "Updated list: [1, 2, 4, 5]\n"
          ]
        }
      ]
    },
    {
      "cell_type": "code",
      "source": [],
      "metadata": {
        "id": "dHH3eF_R9BRG"
      },
      "execution_count": null,
      "outputs": []
    },
    {
      "cell_type": "markdown",
      "source": [
        "9. Write a code to access the second element in the list ['a', 'b', 'c', 'd']\n"
      ],
      "metadata": {
        "id": "IosHEMzc9DEg"
      }
    },
    {
      "cell_type": "code",
      "source": [
        "# Define the list\n",
        "letters = ['a', 'b', 'c', 'd']\n",
        "\n",
        "# Access the second element (index 1)\n",
        "second_element = letters[1]\n",
        "\n",
        "# Print the result\n",
        "print(\"Second element:\", second_element)\n"
      ],
      "metadata": {
        "colab": {
          "base_uri": "https://localhost:8080/"
        },
        "id": "BnnG5bMP9OBg",
        "outputId": "dcad40ab-3bdf-4c0f-a883-22dc101b1ac4"
      },
      "execution_count": 9,
      "outputs": [
        {
          "output_type": "stream",
          "name": "stdout",
          "text": [
            "Second element: b\n"
          ]
        }
      ]
    },
    {
      "cell_type": "code",
      "source": [],
      "metadata": {
        "id": "Ytv3oDRc9O3L"
      },
      "execution_count": null,
      "outputs": []
    },
    {
      "cell_type": "markdown",
      "source": [
        "10. Write a code to reverse the list [10, 20, 30, 40, 50]."
      ],
      "metadata": {
        "id": "3ukLkc-99QKl"
      }
    },
    {
      "cell_type": "code",
      "source": [
        "# Define the list\n",
        "numbers = [10, 20, 30, 40, 50]\n",
        "\n",
        "# Reverse the list\n",
        "numbers.reverse()\n",
        "\n",
        "# Print the reversed list\n",
        "print(\"Reversed list:\", numbers)\n"
      ],
      "metadata": {
        "colab": {
          "base_uri": "https://localhost:8080/"
        },
        "id": "jSdTauWi9ca7",
        "outputId": "92ea5dbf-9b7c-4398-82e8-3d41decc9211"
      },
      "execution_count": 10,
      "outputs": [
        {
          "output_type": "stream",
          "name": "stdout",
          "text": [
            "Reversed list: [50, 40, 30, 20, 10]\n"
          ]
        }
      ]
    },
    {
      "cell_type": "code",
      "source": [],
      "metadata": {
        "id": "K6DL9hxX9dib"
      },
      "execution_count": null,
      "outputs": []
    },
    {
      "cell_type": "markdown",
      "source": [
        "11. Write a code to create a tuple with the elements 100, 200, 300 and print it."
      ],
      "metadata": {
        "id": "ZpzhnQ7p9e3N"
      }
    },
    {
      "cell_type": "code",
      "source": [
        "# Create a tuple\n",
        "my_tuple = (100, 200, 300)\n",
        "\n",
        "# Print the tuple\n",
        "print(\"Tuple:\", my_tuple)\n"
      ],
      "metadata": {
        "colab": {
          "base_uri": "https://localhost:8080/"
        },
        "id": "GxJRHZuU9rEY",
        "outputId": "c01095ec-9d4c-4312-f2e8-72e577001b95"
      },
      "execution_count": 11,
      "outputs": [
        {
          "output_type": "stream",
          "name": "stdout",
          "text": [
            "Tuple: (100, 200, 300)\n"
          ]
        }
      ]
    },
    {
      "cell_type": "code",
      "source": [
        "12. Write a code to access the second-to-last element of the tuple ('red', 'green', 'blue', 'yellow')."
      ],
      "metadata": {
        "id": "DV2wmxSM9r9l"
      },
      "execution_count": null,
      "outputs": []
    },
    {
      "cell_type": "code",
      "source": [
        "colors = ('red', 'green', 'blue', 'yellow')\n",
        "second_to_last = colors[-2]\n",
        "print(second_to_last)\n"
      ],
      "metadata": {
        "colab": {
          "base_uri": "https://localhost:8080/"
        },
        "id": "1YHICiAh95-Q",
        "outputId": "546acecf-2c64-4332-dc4e-8172b27282c8"
      },
      "execution_count": 12,
      "outputs": [
        {
          "output_type": "stream",
          "name": "stdout",
          "text": [
            "blue\n"
          ]
        }
      ]
    },
    {
      "cell_type": "code",
      "source": [],
      "metadata": {
        "id": "lmYua1GC96pz"
      },
      "execution_count": null,
      "outputs": []
    },
    {
      "cell_type": "markdown",
      "source": [
        "13. Write a code to find the minimum number in the tuple (10, 20, 5, 15)."
      ],
      "metadata": {
        "id": "TDQkKOHB98x4"
      }
    },
    {
      "cell_type": "code",
      "source": [
        "numbers = (10, 20, 5, 15)\n",
        "minimum = min(numbers)\n",
        "print(minimum)\n"
      ],
      "metadata": {
        "colab": {
          "base_uri": "https://localhost:8080/"
        },
        "id": "168-dRK2-Fee",
        "outputId": "8472e107-1f87-4207-96aa-6b36c0e962a5"
      },
      "execution_count": 13,
      "outputs": [
        {
          "output_type": "stream",
          "name": "stdout",
          "text": [
            "5\n"
          ]
        }
      ]
    },
    {
      "cell_type": "code",
      "source": [],
      "metadata": {
        "id": "hXNyOpoT-GMe"
      },
      "execution_count": null,
      "outputs": []
    },
    {
      "cell_type": "markdown",
      "source": [
        "14. Write a code to find the index of the element \"cat\" in the tuple ('dog', 'cat', 'rabbit')."
      ],
      "metadata": {
        "id": "9HkvcT-q-Hup"
      }
    },
    {
      "cell_type": "code",
      "source": [
        "animals = ('dog', 'cat', 'rabbit')\n",
        "index_of_cat = animals.index('cat')\n",
        "print(index_of_cat)\n"
      ],
      "metadata": {
        "colab": {
          "base_uri": "https://localhost:8080/"
        },
        "id": "KqPsXELa-RQ-",
        "outputId": "f33beb28-c03b-45d0-be17-0c120dc0281a"
      },
      "execution_count": 14,
      "outputs": [
        {
          "output_type": "stream",
          "name": "stdout",
          "text": [
            "1\n"
          ]
        }
      ]
    },
    {
      "cell_type": "code",
      "source": [],
      "metadata": {
        "id": "4Lrz_zYi-R7O"
      },
      "execution_count": null,
      "outputs": []
    },
    {
      "cell_type": "markdown",
      "source": [
        "15. Write a code to create a tuple containing three different fruits and check if \"kiwi\" is in it."
      ],
      "metadata": {
        "id": "6Fl-n0Ed-S6_"
      }
    },
    {
      "cell_type": "code",
      "source": [
        "fruits = ('apple', 'banana', 'orange')\n",
        "if 'kiwi' in fruits:\n",
        "    print(\"Kiwi is in the tuple.\")\n",
        "else:\n",
        "    print(\"Kiwi is not in the tuple.\")\n"
      ],
      "metadata": {
        "colab": {
          "base_uri": "https://localhost:8080/"
        },
        "id": "zkWLcErf-a1P",
        "outputId": "128876e1-65ab-4daf-9a23-a1840789fab8"
      },
      "execution_count": 15,
      "outputs": [
        {
          "output_type": "stream",
          "name": "stdout",
          "text": [
            "Kiwi is not in the tuple.\n"
          ]
        }
      ]
    },
    {
      "cell_type": "code",
      "source": [],
      "metadata": {
        "id": "mcwVkElP-bkE"
      },
      "execution_count": null,
      "outputs": []
    },
    {
      "cell_type": "markdown",
      "source": [
        " Write a code to create a set with the elements 'a', 'b', 'c' and print it."
      ],
      "metadata": {
        "id": "252bCZ1m-cg3"
      }
    },
    {
      "cell_type": "code",
      "source": [
        "my_set = {'a', 'b', 'c'}\n",
        "print(my_set)\n"
      ],
      "metadata": {
        "colab": {
          "base_uri": "https://localhost:8080/"
        },
        "id": "VItwpXBu-jbV",
        "outputId": "9d7a370e-0f3b-4257-d598-31206760b7f1"
      },
      "execution_count": 16,
      "outputs": [
        {
          "output_type": "stream",
          "name": "stdout",
          "text": [
            "{'a', 'b', 'c'}\n"
          ]
        }
      ]
    },
    {
      "cell_type": "code",
      "source": [],
      "metadata": {
        "id": "zNU8EYQg-kFt"
      },
      "execution_count": null,
      "outputs": []
    },
    {
      "cell_type": "markdown",
      "source": [
        "17. Write a code to clear all elements from the set {1, 2, 3, 4, 5}."
      ],
      "metadata": {
        "id": "SfQ8EfYU-k-D"
      }
    },
    {
      "cell_type": "code",
      "source": [
        "my_set = {1, 2, 3, 4, 5}\n",
        "my_set.clear()\n",
        "print(my_set)\n"
      ],
      "metadata": {
        "colab": {
          "base_uri": "https://localhost:8080/"
        },
        "id": "UAPWa9Fb-r8m",
        "outputId": "fde448ae-0eba-499b-83f2-922ebb3c9887"
      },
      "execution_count": 17,
      "outputs": [
        {
          "output_type": "stream",
          "name": "stdout",
          "text": [
            "set()\n"
          ]
        }
      ]
    },
    {
      "cell_type": "code",
      "source": [],
      "metadata": {
        "id": "VDo6yCIR-siH"
      },
      "execution_count": null,
      "outputs": []
    },
    {
      "cell_type": "markdown",
      "source": [
        "18. Write a code to remove the element 4 from the set {1, 2, 3, 4}."
      ],
      "metadata": {
        "id": "F_hOCoPX-vIf"
      }
    },
    {
      "cell_type": "code",
      "source": [
        "my_set = {1, 2, 3, 4}\n",
        "my_set.remove(4)\n",
        "print(my_set)\n"
      ],
      "metadata": {
        "colab": {
          "base_uri": "https://localhost:8080/"
        },
        "id": "KEVKYRMU-1ZA",
        "outputId": "6a78a275-c860-4723-83a4-8064a5b51170"
      },
      "execution_count": 18,
      "outputs": [
        {
          "output_type": "stream",
          "name": "stdout",
          "text": [
            "{1, 2, 3}\n"
          ]
        }
      ]
    },
    {
      "cell_type": "code",
      "source": [],
      "metadata": {
        "id": "DUsq-jZK-2GZ"
      },
      "execution_count": null,
      "outputs": []
    },
    {
      "cell_type": "markdown",
      "source": [
        "19. Write a code to find the union of two sets {1, 2, 3} and {3, 4, 5}."
      ],
      "metadata": {
        "id": "ZU7s-e0r-2__"
      }
    },
    {
      "cell_type": "code",
      "source": [
        "set1 = {1, 2, 3}\n",
        "set2 = {3, 4, 5}\n",
        "union_set = set1.union(set2)\n",
        "print(union_set)\n"
      ],
      "metadata": {
        "colab": {
          "base_uri": "https://localhost:8080/"
        },
        "id": "8ZymVLB7_AcX",
        "outputId": "537855c5-9e7f-4f7f-dab7-b2e7ae254d33"
      },
      "execution_count": 19,
      "outputs": [
        {
          "output_type": "stream",
          "name": "stdout",
          "text": [
            "{1, 2, 3, 4, 5}\n"
          ]
        }
      ]
    },
    {
      "cell_type": "code",
      "source": [],
      "metadata": {
        "id": "gMJnp_IO_BJX"
      },
      "execution_count": null,
      "outputs": []
    },
    {
      "cell_type": "markdown",
      "source": [
        "20. Write a code to find the intersection of two sets {1, 2, 3} and {2, 3, 4}."
      ],
      "metadata": {
        "id": "56W1aRBh_B_t"
      }
    },
    {
      "cell_type": "code",
      "source": [
        "set1 = {1, 2, 3}\n",
        "set2 = {2, 3, 4}\n",
        "intersection_set = set1.intersection(set2)\n",
        "print(intersection_set)\n"
      ],
      "metadata": {
        "colab": {
          "base_uri": "https://localhost:8080/"
        },
        "id": "RAp1kc1O_JVi",
        "outputId": "68ba5134-6e7e-4ca5-af24-12345323da18"
      },
      "execution_count": 20,
      "outputs": [
        {
          "output_type": "stream",
          "name": "stdout",
          "text": [
            "{2, 3}\n"
          ]
        }
      ]
    },
    {
      "cell_type": "code",
      "source": [],
      "metadata": {
        "id": "LlXr0glU_KJS"
      },
      "execution_count": null,
      "outputs": []
    },
    {
      "cell_type": "markdown",
      "source": [
        "21. Write a code to create a dictionary with the keys \"name\", \"age\", and \"city\", and print it."
      ],
      "metadata": {
        "id": "L2cJBHOE_LZa"
      }
    },
    {
      "cell_type": "code",
      "source": [
        "person = {\n",
        "    \"name\": \"Alice\",\n",
        "    \"age\": 30,\n",
        "    \"city\": \"New York\"\n",
        "}\n",
        "print(person)\n"
      ],
      "metadata": {
        "colab": {
          "base_uri": "https://localhost:8080/"
        },
        "id": "uzNRQEF8_Uth",
        "outputId": "475c4d2c-efe2-4a34-cb11-9a0c7969253d"
      },
      "execution_count": 21,
      "outputs": [
        {
          "output_type": "stream",
          "name": "stdout",
          "text": [
            "{'name': 'Alice', 'age': 30, 'city': 'New York'}\n"
          ]
        }
      ]
    },
    {
      "cell_type": "code",
      "source": [],
      "metadata": {
        "id": "_pD2N-7u_WAu"
      },
      "execution_count": null,
      "outputs": []
    },
    {
      "cell_type": "markdown",
      "source": [
        "22. Write a code to add a new key-value pair \"country\": \"USA\" to the dictionary {'name': 'John', 'age': 25}."
      ],
      "metadata": {
        "id": "fbj3EUwN_W9Y"
      }
    },
    {
      "cell_type": "code",
      "source": [
        "person = {'name': 'John', 'age': 25}\n",
        "person['country'] = 'USA'\n",
        "print(person)\n"
      ],
      "metadata": {
        "colab": {
          "base_uri": "https://localhost:8080/"
        },
        "id": "ZguPp9hM_f0a",
        "outputId": "2611fb12-2f66-40cc-abd5-7770bd372fe6"
      },
      "execution_count": 22,
      "outputs": [
        {
          "output_type": "stream",
          "name": "stdout",
          "text": [
            "{'name': 'John', 'age': 25, 'country': 'USA'}\n"
          ]
        }
      ]
    },
    {
      "cell_type": "code",
      "source": [],
      "metadata": {
        "id": "VpnQGfT7_g9N"
      },
      "execution_count": null,
      "outputs": []
    },
    {
      "cell_type": "markdown",
      "source": [
        "23. Write a code to access the value associated with the key \"name\" in the dictionary {'name': 'Alice', 'age': 30}."
      ],
      "metadata": {
        "id": "_dS6pI99_0MP"
      }
    },
    {
      "cell_type": "code",
      "source": [
        "person = {'name': 'Alice', 'age': 30}\n",
        "print(person['name'])\n"
      ],
      "metadata": {
        "colab": {
          "base_uri": "https://localhost:8080/"
        },
        "id": "QCH7qpnY_6xb",
        "outputId": "cdf92300-d4ff-4abb-ba05-11cd3e57d805"
      },
      "execution_count": 23,
      "outputs": [
        {
          "output_type": "stream",
          "name": "stdout",
          "text": [
            "Alice\n"
          ]
        }
      ]
    },
    {
      "cell_type": "code",
      "source": [],
      "metadata": {
        "id": "sy1vNkhE_7ih"
      },
      "execution_count": null,
      "outputs": []
    },
    {
      "cell_type": "markdown",
      "source": [
        "24. Write a code to remove the key \"age\" from the dictionary {'name': 'Bob', 'age': 22, 'city': 'New York'}."
      ],
      "metadata": {
        "id": "wfo6tNU6_8Xk"
      }
    },
    {
      "cell_type": "code",
      "source": [
        "person = {'name': 'Bob', 'age': 22, 'city': 'New York'}\n",
        "person.pop('age')  # Remove the key 'age'\n",
        "print(person)\n"
      ],
      "metadata": {
        "colab": {
          "base_uri": "https://localhost:8080/"
        },
        "id": "uGPqUGpGAMxW",
        "outputId": "8a804c77-8c0b-4dd9-9533-2922c09be41d"
      },
      "execution_count": 24,
      "outputs": [
        {
          "output_type": "stream",
          "name": "stdout",
          "text": [
            "{'name': 'Bob', 'city': 'New York'}\n"
          ]
        }
      ]
    },
    {
      "cell_type": "code",
      "source": [],
      "metadata": {
        "id": "57W2uf6iANrN"
      },
      "execution_count": null,
      "outputs": []
    },
    {
      "cell_type": "markdown",
      "source": [
        "25. Write a code to check if the key \"city\" exists in the dictionary {'name': 'Alice', 'city': 'Paris'}."
      ],
      "metadata": {
        "id": "PKdRXRn6AOop"
      }
    },
    {
      "cell_type": "code",
      "source": [
        "person = {'name': 'Alice', 'city': 'Paris'}\n",
        "\n",
        "if 'city' in person:\n",
        "    print(\"Key 'city' exists in the dictionary.\")\n",
        "else:\n",
        "    print(\"Key 'city' does not exist in the dictionary.\")\n"
      ],
      "metadata": {
        "colab": {
          "base_uri": "https://localhost:8080/"
        },
        "id": "IgJ4w1R8AVPt",
        "outputId": "011935c8-e88f-4d09-82dc-a6e26c2b2198"
      },
      "execution_count": 25,
      "outputs": [
        {
          "output_type": "stream",
          "name": "stdout",
          "text": [
            "Key 'city' exists in the dictionary.\n"
          ]
        }
      ]
    },
    {
      "cell_type": "code",
      "source": [],
      "metadata": {
        "id": "xcqaKaAGAV5e"
      },
      "execution_count": null,
      "outputs": []
    },
    {
      "cell_type": "markdown",
      "source": [
        "26. Write a code to create a list, a tuple, and a dictionary, and print them all."
      ],
      "metadata": {
        "id": "2z3mA1aIAW3i"
      }
    },
    {
      "cell_type": "code",
      "source": [
        "# Creating a list\n",
        "my_list = [1, 2, 3, 4, 5]\n",
        "\n",
        "# Creating a tuple\n",
        "my_tuple = ('apple', 'banana', 'cherry')\n",
        "\n",
        "# Creating a dictionary\n",
        "my_dict = {'name': 'Alice', 'age': 30, 'city': 'Paris'}\n",
        "\n",
        "# Printing them\n",
        "print(\"List:\", my_list)\n",
        "print(\"Tuple:\", my_tuple)\n",
        "print(\"Dictionary:\", my_dict)\n"
      ],
      "metadata": {
        "colab": {
          "base_uri": "https://localhost:8080/"
        },
        "id": "y6-qoSDXAc0j",
        "outputId": "f317c3e6-f4f8-47cb-c41e-e5014d542dc7"
      },
      "execution_count": 26,
      "outputs": [
        {
          "output_type": "stream",
          "name": "stdout",
          "text": [
            "List: [1, 2, 3, 4, 5]\n",
            "Tuple: ('apple', 'banana', 'cherry')\n",
            "Dictionary: {'name': 'Alice', 'age': 30, 'city': 'Paris'}\n"
          ]
        }
      ]
    },
    {
      "cell_type": "code",
      "source": [],
      "metadata": {
        "id": "lBqFPNSGAdty"
      },
      "execution_count": null,
      "outputs": []
    },
    {
      "cell_type": "markdown",
      "source": [
        "27. Write a code to create a list of 5 random numbers between 1 and 100, sort it in ascending order, and print the result.(replaced)\n"
      ],
      "metadata": {
        "id": "qzBs6ucoAgGu"
      }
    },
    {
      "cell_type": "code",
      "source": [
        "import random\n",
        "\n",
        "# Create a list of 5 random numbers between 1 and 100\n",
        "random_numbers = [random.randint(1, 100) for _ in range(5)]\n",
        "\n",
        "# Sort the list in ascending order\n",
        "random_numbers.sort()\n",
        "\n",
        "# Print the result\n",
        "print(\"Sorted random numbers:\", random_numbers)\n"
      ],
      "metadata": {
        "colab": {
          "base_uri": "https://localhost:8080/"
        },
        "id": "bj3WDAHxAq5p",
        "outputId": "9f10d972-1079-4fb9-9ba4-888709737671"
      },
      "execution_count": 27,
      "outputs": [
        {
          "output_type": "stream",
          "name": "stdout",
          "text": [
            "Sorted random numbers: [22, 27, 62, 79, 99]\n"
          ]
        }
      ]
    },
    {
      "cell_type": "code",
      "source": [],
      "metadata": {
        "id": "gCZ6C6HYArqw"
      },
      "execution_count": null,
      "outputs": []
    },
    {
      "cell_type": "markdown",
      "source": [
        "28. Write a code to create a list with strings and print the element at the third index."
      ],
      "metadata": {
        "id": "rPfTEuS5Aszz"
      }
    },
    {
      "cell_type": "code",
      "source": [
        "# Create a list with strings\n",
        "fruits = ['apple', 'banana', 'cherry', 'date', 'elderberry']\n",
        "\n",
        "# Print the element at the third index (indexing starts at 0)\n",
        "print(\"Element at index 3:\", fruits[3])\n"
      ],
      "metadata": {
        "colab": {
          "base_uri": "https://localhost:8080/"
        },
        "id": "l4biXJ8ZAy7t",
        "outputId": "359ac863-7683-4b8d-f82c-f0326a87df1c"
      },
      "execution_count": 28,
      "outputs": [
        {
          "output_type": "stream",
          "name": "stdout",
          "text": [
            "Element at index 3: date\n"
          ]
        }
      ]
    },
    {
      "cell_type": "code",
      "source": [],
      "metadata": {
        "id": "mXW8NfJkAzjS"
      },
      "execution_count": null,
      "outputs": []
    },
    {
      "cell_type": "markdown",
      "source": [
        "29. Write a code to combine two dictionaries into one and print the result."
      ],
      "metadata": {
        "id": "pNy4mVWnA0ca"
      }
    },
    {
      "cell_type": "code",
      "source": [
        "# Define two dictionaries\n",
        "dict1 = {'a': 1, 'b': 2}\n",
        "dict2 = {'c': 3, 'd': 4}\n",
        "\n",
        "# Combine the dictionaries\n",
        "combined_dict = {**dict1, **dict2}\n",
        "\n",
        "# Print the result\n",
        "print(\"Combined dictionary:\", combined_dict)\n"
      ],
      "metadata": {
        "colab": {
          "base_uri": "https://localhost:8080/"
        },
        "id": "6L_HIDTbA6qo",
        "outputId": "a8f4f186-bcdd-4132-8f62-4d115944f90f"
      },
      "execution_count": 29,
      "outputs": [
        {
          "output_type": "stream",
          "name": "stdout",
          "text": [
            "Combined dictionary: {'a': 1, 'b': 2, 'c': 3, 'd': 4}\n"
          ]
        }
      ]
    },
    {
      "cell_type": "code",
      "source": [],
      "metadata": {
        "id": "pmzrYLBIA7MA"
      },
      "execution_count": null,
      "outputs": []
    },
    {
      "cell_type": "markdown",
      "source": [
        "30. Write a code to convert a list of strings into a set."
      ],
      "metadata": {
        "id": "rqvvPtX8BBCt"
      }
    },
    {
      "cell_type": "code",
      "source": [
        "# List of strings\n",
        "string_list = ['apple', 'banana', 'cherry', 'apple']\n",
        "\n",
        "# Convert the list to a set\n",
        "string_set = set(string_list)\n",
        "\n",
        "# Print the result\n",
        "print(\"Set of strings:\", string_set)\n"
      ],
      "metadata": {
        "colab": {
          "base_uri": "https://localhost:8080/"
        },
        "id": "VXdkAdEkBJPY",
        "outputId": "7006d07d-6ca8-4795-a6b2-8e69455a7979"
      },
      "execution_count": 30,
      "outputs": [
        {
          "output_type": "stream",
          "name": "stdout",
          "text": [
            "Set of strings: {'banana', 'apple', 'cherry'}\n"
          ]
        }
      ]
    },
    {
      "cell_type": "code",
      "source": [],
      "metadata": {
        "id": "VOkPy3FfBKfd"
      },
      "execution_count": null,
      "outputs": []
    }
  ]
}